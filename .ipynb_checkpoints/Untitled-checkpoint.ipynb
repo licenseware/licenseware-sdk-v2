{
 "cells": [
  {
   "cell_type": "code",
   "execution_count": 23,
   "id": "e4e5edc2",
   "metadata": {},
   "outputs": [],
   "source": [
    "import os\n",
    "import string\n",
    "import random\n",
    "from dataclasses import dataclass\n",
    "from typing import List, Any"
   ]
  },
  {
   "cell_type": "code",
   "execution_count": 24,
   "id": "a60cb272",
   "metadata": {},
   "outputs": [],
   "source": [
    "# https://marshmallow.readthedocs.io/en/stable/quickstart.html#field-validators-as-methods\n",
    "import re\n",
    "from marshmallow import Schema, fields, validates, validate, ValidationError\n",
    "from app.licenseware.common.validators.schema_validator import schema_validator as valid_data"
   ]
  },
  {
   "cell_type": "code",
   "execution_count": 25,
   "id": "1c35bc3d",
   "metadata": {},
   "outputs": [],
   "source": [
    "from app.licenseware.common.validators.file_validators import (\n",
    "    GeneralValidator, \n",
    "    validate_filename\n",
    ")"
   ]
  },
  {
   "cell_type": "code",
   "execution_count": null,
   "id": "fe8c9857",
   "metadata": {},
   "outputs": [],
   "source": [
    "def _upload_response(self, request_obj, event_type):\n",
    "\n",
    "    file_objects = request_obj.files.getlist(\"files[]\")\n",
    "    if not isinstance(file_objects, list) and file_objects:\n",
    "        return {\"status\": \"fail\", \"message\": \"key needs to be files[]\"}, 400\n",
    "\n",
    "    saved_files, validation = [], []\n",
    "    for file in file_objects:\n",
    "        res = self.validation_function(file, reason=True)\n",
    "        if res['status'] == \"success\":\n",
    "            filename = save_file(file, request_obj.headers.get(\"TenantId\"))\n",
    "            saved_files.append(filename)\n",
    "        else:\n",
    "            filename = file.filename\n",
    "\n",
    "        validation.append({\n",
    "            \"filename\": filename, \"status\": res['status'], \"message\": res['message']\n",
    "        })\n",
    "\n",
    "\n",
    "    if not saved_files:\n",
    "        return {\n",
    "            \"status\": \"fail\", \"message\": \"no valid files provided\", \"validation\": validation\n",
    "        }, 400\n",
    "\n",
    "\n",
    "\n",
    "    event = {\n",
    "        \"tenant_id\": request_obj.headers.get(\"TenantId\"),\n",
    "        \"files\": \",\".join(saved_files),\n",
    "        \"event_type\": event_type\n",
    "    }\n",
    "\n",
    "    validate_event(event)\n",
    "    broker.actors[event_type].send(event)\n",
    "\n",
    "    # DramatiqEvent.send(event)\n",
    "    # RedisService.send_stream_event({\n",
    "    #     \"tenant_id\": request_obj.headers.get(\"TenantId\"),\n",
    "    #     \"files\": \",\".join(saved_files),\n",
    "    #     \"event_type\": event_type\n",
    "    # })\n",
    "\n",
    "    return {\"status\": \"success\", \"message\": \"files uploaded successfuly\", \n",
    "        \"units\": len(saved_files), \n",
    "        \"validation\": validation\n",
    "    }, 200"
   ]
  },
  {
   "cell_type": "code",
   "execution_count": 43,
   "id": "f585a4e2",
   "metadata": {},
   "outputs": [],
   "source": [
    "file_objects_response = {'status': 'success', 'message': 'Files are valid', 'validation': [{'status': 'success', 'filename': 'rvtools.xlsx', 'filepath': '/tmp/lware/3d1fdc6b-04bc-44c8-ae7c-5fa5b9122f1a/rvtools.xlsx', 'message': 'Filename is valid'}, {'status': 'success', 'filename': 'rv_tools.xlsx', 'filepath': '/tmp/lware/3d1fdc6b-04bc-44c8-ae7c-5fa5b9122f1a/rv_tools.xlsx', 'message': 'Filename is valid'}], 'quota': {'status': 'success', 'message': 'Quota within limits'}}"
   ]
  },
  {
   "cell_type": "code",
   "execution_count": 44,
   "id": "b3c6d33c",
   "metadata": {},
   "outputs": [
    {
     "data": {
      "text/plain": [
       "{'status': 'success',\n",
       " 'message': 'Files are valid',\n",
       " 'validation': [{'status': 'success',\n",
       "   'filename': 'rvtools.xlsx',\n",
       "   'filepath': '/tmp/lware/3d1fdc6b-04bc-44c8-ae7c-5fa5b9122f1a/rvtools.xlsx',\n",
       "   'message': 'Filename is valid'},\n",
       "  {'status': 'success',\n",
       "   'filename': 'rv_tools.xlsx',\n",
       "   'filepath': '/tmp/lware/3d1fdc6b-04bc-44c8-ae7c-5fa5b9122f1a/rv_tools.xlsx',\n",
       "   'message': 'Filename is valid'}],\n",
       " 'quota': {'status': 'success', 'message': 'Quota within limits'}}"
      ]
     },
     "execution_count": 44,
     "metadata": {},
     "output_type": "execute_result"
    }
   ],
   "source": [
    "file_objects_response"
   ]
  },
  {
   "cell_type": "code",
   "execution_count": 46,
   "id": "d06d9bc5",
   "metadata": {},
   "outputs": [
    {
     "data": {
      "text/plain": [
       "['/tmp/lware/3d1fdc6b-04bc-44c8-ae7c-5fa5b9122f1a/rvtools.xlsx',\n",
       " '/tmp/lware/3d1fdc6b-04bc-44c8-ae7c-5fa5b9122f1a/rv_tools.xlsx']"
      ]
     },
     "execution_count": 46,
     "metadata": {},
     "output_type": "execute_result"
    }
   ],
   "source": []
  },
  {
   "cell_type": "code",
   "execution_count": null,
   "id": "1d1f83f0",
   "metadata": {},
   "outputs": [],
   "source": []
  },
  {
   "cell_type": "code",
   "execution_count": null,
   "id": "ff725a10",
   "metadata": {},
   "outputs": [],
   "source": []
  },
  {
   "cell_type": "code",
   "execution_count": null,
   "id": "c4ee85b9",
   "metadata": {},
   "outputs": [],
   "source": []
  },
  {
   "cell_type": "code",
   "execution_count": null,
   "id": "3ec7efd5",
   "metadata": {},
   "outputs": [],
   "source": []
  },
  {
   "cell_type": "code",
   "execution_count": null,
   "id": "48d17e76",
   "metadata": {},
   "outputs": [],
   "source": []
  },
  {
   "cell_type": "code",
   "execution_count": null,
   "id": "01e69c40",
   "metadata": {},
   "outputs": [],
   "source": []
  },
  {
   "cell_type": "code",
   "execution_count": null,
   "id": "ac7a852d",
   "metadata": {},
   "outputs": [],
   "source": []
  },
  {
   "cell_type": "code",
   "execution_count": null,
   "id": "336a10d2",
   "metadata": {},
   "outputs": [],
   "source": []
  },
  {
   "cell_type": "code",
   "execution_count": null,
   "id": "a92d7b32",
   "metadata": {},
   "outputs": [],
   "source": []
  },
  {
   "cell_type": "code",
   "execution_count": null,
   "id": "5d993155",
   "metadata": {},
   "outputs": [],
   "source": []
  },
  {
   "cell_type": "code",
   "execution_count": null,
   "id": "3871c30e",
   "metadata": {},
   "outputs": [],
   "source": []
  },
  {
   "cell_type": "code",
   "execution_count": null,
   "id": "32b496e1",
   "metadata": {},
   "outputs": [],
   "source": []
  },
  {
   "cell_type": "code",
   "execution_count": null,
   "id": "2af134dd",
   "metadata": {},
   "outputs": [],
   "source": []
  },
  {
   "cell_type": "code",
   "execution_count": null,
   "id": "a85cce24",
   "metadata": {},
   "outputs": [],
   "source": []
  },
  {
   "cell_type": "code",
   "execution_count": null,
   "id": "810b0f52",
   "metadata": {},
   "outputs": [],
   "source": []
  },
  {
   "cell_type": "code",
   "execution_count": null,
   "id": "1980acc6",
   "metadata": {},
   "outputs": [],
   "source": []
  },
  {
   "cell_type": "code",
   "execution_count": null,
   "id": "effce029",
   "metadata": {},
   "outputs": [],
   "source": []
  },
  {
   "cell_type": "code",
   "execution_count": null,
   "id": "0cf5d653",
   "metadata": {},
   "outputs": [],
   "source": []
  },
  {
   "cell_type": "code",
   "execution_count": null,
   "id": "5220f6cb",
   "metadata": {},
   "outputs": [],
   "source": []
  }
 ],
 "metadata": {
  "kernelspec": {
   "display_name": "Python 3.8.5 64-bit",
   "language": "python",
   "name": "python385jvsc74a57bd031f2aee4e71d21fbe5cf8b01ff0e069b9275f58929596ceb00d14d90e3e16cd6"
  },
  "language_info": {
   "codemirror_mode": {
    "name": "ipython",
    "version": 3
   },
   "file_extension": ".py",
   "mimetype": "text/x-python",
   "name": "python",
   "nbconvert_exporter": "python",
   "pygments_lexer": "ipython3",
   "version": "3.8.10"
  }
 },
 "nbformat": 4,
 "nbformat_minor": 5
}
