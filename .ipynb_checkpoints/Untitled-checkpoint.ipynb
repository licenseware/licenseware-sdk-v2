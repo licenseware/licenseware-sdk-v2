{
 "cells": [
  {
   "cell_type": "code",
   "execution_count": 33,
   "id": "e4e5edc2",
   "metadata": {},
   "outputs": [],
   "source": [
    "import os\n",
    "import string\n",
    "import random\n",
    "from dataclasses import dataclass"
   ]
  },
  {
   "cell_type": "code",
   "execution_count": 64,
   "id": "a60cb272",
   "metadata": {},
   "outputs": [],
   "source": [
    "# https://marshmallow.readthedocs.io/en/stable/quickstart.html#field-validators-as-methods\n",
    "import re\n",
    "from marshmallow import Schema, fields, validates, validate, ValidationError\n",
    "from app.licenseware.common.validators.schema_validator import schema_validator as valid_data"
   ]
  },
  {
   "cell_type": "code",
   "execution_count": 68,
   "id": "0df0e5be",
   "metadata": {},
   "outputs": [],
   "source": [
    "class flask_request:\n",
    "    json = ['rvtools.xlsx', \"rv_tools.xlsx\", 'randomfile.pdf']"
   ]
  },
  {
   "cell_type": "code",
   "execution_count": 69,
   "id": "e5b5964f",
   "metadata": {},
   "outputs": [
    {
     "data": {
      "text/plain": [
       "['rvtools.xlsx', 'rv_tools.xlsx', 'randomfile.pdf']"
      ]
     },
     "execution_count": 69,
     "metadata": {},
     "output_type": "execute_result"
    }
   ],
   "source": [
    "filenames = flask_request.json\n",
    "filenames"
   ]
  },
  {
   "cell_type": "code",
   "execution_count": null,
   "id": "6a9aae19",
   "metadata": {},
   "outputs": [],
   "source": []
  },
  {
   "cell_type": "code",
   "execution_count": null,
   "id": "1df3784f",
   "metadata": {},
   "outputs": [],
   "source": []
  },
  {
   "cell_type": "code",
   "execution_count": null,
   "id": "e923819d",
   "metadata": {},
   "outputs": [],
   "source": []
  },
  {
   "cell_type": "code",
   "execution_count": null,
   "id": "3a502595",
   "metadata": {},
   "outputs": [],
   "source": []
  },
  {
   "cell_type": "code",
   "execution_count": null,
   "id": "cd0e70b6",
   "metadata": {},
   "outputs": [],
   "source": []
  },
  {
   "cell_type": "code",
   "execution_count": null,
   "id": "5063189e",
   "metadata": {},
   "outputs": [],
   "source": []
  },
  {
   "cell_type": "code",
   "execution_count": null,
   "id": "de65631e",
   "metadata": {},
   "outputs": [],
   "source": []
  },
  {
   "cell_type": "code",
   "execution_count": 65,
   "id": "d3479403",
   "metadata": {},
   "outputs": [],
   "source": [
    "class FilenameSchema(Schema):\n",
    "    filename = fields.Str(required=True, validate=validate.Regexp(regex=\"rvtools|rvtools\", flags=re.I))\n",
    "\n",
    "class FilenamesSchema(Schema):\n",
    "    data = fields.List(fields.Nested(FilenameSchema), required=True)"
   ]
  },
  {
   "cell_type": "code",
   "execution_count": 66,
   "id": "a3342f00",
   "metadata": {},
   "outputs": [],
   "source": [
    "def validate_filenames_request(flask_request):\n",
    "    \"\"\"\n",
    "        If filenames are valid return a the list of filenames else return None\n",
    "    \"\"\"\n",
    "    \n",
    "    filenames = flask_request.json\n",
    "    \n",
    "    \n",
    "\n",
    "    if valid_data(schema=FilenamesSchema, data={'data': filenames}, raise_error=False):\n",
    "        return filenames\n",
    "    \n",
    "    return None\n"
   ]
  },
  {
   "cell_type": "code",
   "execution_count": 67,
   "id": "1abb102f",
   "metadata": {},
   "outputs": [
    {
     "name": "stderr",
     "output_type": "stream",
     "text": [
      "2021-08-13 15:48:09.822[ ERROR ]\n",
      "app.licenseware.common.validators.schema_validator:schema_validator:20\n",
      "Validation failed \n",
      " {'data': {0: {'_schema': ['Invalid input type.']}, 1: {'_schema': ['Invalid input type.']}, 2: {'_schema': ['Invalid input type.']}}}\n",
      "\n"
     ]
    }
   ],
   "source": [
    "filenames = validate_filenames_request(flask_request)\n",
    "filenames"
   ]
  },
  {
   "cell_type": "code",
   "execution_count": null,
   "id": "10435c6e",
   "metadata": {},
   "outputs": [],
   "source": [
    "def validate_filename(filename):\n",
    "    \n",
    "    if \"tools\" not in filename.lower() and \"rv\" not in filename:\n",
    "        raise ValidationError(\"\")"
   ]
  },
  {
   "cell_type": "code",
   "execution_count": null,
   "id": "f1bb4e2b",
   "metadata": {},
   "outputs": [],
   "source": []
  },
  {
   "cell_type": "code",
   "execution_count": null,
   "id": "ffcc43ae",
   "metadata": {},
   "outputs": [],
   "source": []
  },
  {
   "cell_type": "code",
   "execution_count": null,
   "id": "78bc224c",
   "metadata": {},
   "outputs": [],
   "source": []
  },
  {
   "cell_type": "code",
   "execution_count": null,
   "id": "300a3eef",
   "metadata": {},
   "outputs": [],
   "source": []
  },
  {
   "cell_type": "code",
   "execution_count": null,
   "id": "fe8c9857",
   "metadata": {},
   "outputs": [],
   "source": []
  },
  {
   "cell_type": "code",
   "execution_count": null,
   "id": "44f1c792",
   "metadata": {},
   "outputs": [],
   "source": [
    "def _filenames_response(self, request_obj, filename_ok_msg='Filename is valid.', filename_nok_msg='Filename is not valid.'):\n",
    "\n",
    "    filenames = request_obj.json\n",
    "\n",
    "    if not isinstance(filenames, list) and filenames:\n",
    "        return {'status': 'fail', 'message': 'Must be a list of filenames.'}, 400\n",
    "\n",
    "    validation, accepted_files = [], []\n",
    "    for filename in filenames:\n",
    "        status, message = 'fail', filename_nok_msg\n",
    "        if self.validation_function(filename):\n",
    "            accepted_files.append(filename)\n",
    "            status, message = 'success', filename_ok_msg\n",
    "\n",
    "        validation.append({\n",
    "            \"filename\": filename, \"status\": status, \"message\": message\n",
    "        })\n",
    "\n",
    "    if not accepted_files:\n",
    "        return {\n",
    "            'status': 'fail', \n",
    "            'message': filename_nok_msg,\n",
    "            'validation': validation,\n",
    "            'units': 0\n",
    "        }, 400\n",
    "\n",
    "    return {\n",
    "        'status': 'success', \n",
    "        'message': 'Filenames are valid.',\n",
    "        'validation': validation,\n",
    "        'units': len(accepted_files)\n",
    "    }, 200\n"
   ]
  },
  {
   "cell_type": "code",
   "execution_count": null,
   "id": "93d197b8",
   "metadata": {},
   "outputs": [],
   "source": []
  },
  {
   "cell_type": "code",
   "execution_count": null,
   "id": "0c79c997",
   "metadata": {},
   "outputs": [],
   "source": []
  },
  {
   "cell_type": "code",
   "execution_count": 131,
   "id": "06bd448e",
   "metadata": {},
   "outputs": [
    {
     "data": {
      "text/plain": [
       "'new_rv_tools'"
      ]
     },
     "execution_count": 131,
     "metadata": {},
     "output_type": "execute_result"
    }
   ],
   "source": [
    "\n",
    "class ValidateUpload:\n",
    "    \n",
    "    class Meta:\n",
    "        uploader_id = None\n",
    "        filename_success_message = \"Filename is valid\"\n",
    "        filename_failed_message  =  \"Filename is not valid\"\n",
    "    \n",
    "    \n",
    "    def calculate_quota(self): ...\n",
    "        \n",
    "    def validate_filenames(self, flask_request): ...\n",
    "        \n",
    "    def upload_files(self, flask_request): ...\n",
    "        \n",
    "\n",
    "    \n",
    "class ValidateRVTools(ValidateUpload):\n",
    "    \n",
    "    class Meta:\n",
    "        uploader_id = \"new_rv_tools\"\n",
    "    \n",
    "\n",
    "\n",
    "\n",
    "ValidateRVTools.Meta.uploader_id"
   ]
  },
  {
   "cell_type": "code",
   "execution_count": null,
   "id": "dcbc1bcc",
   "metadata": {},
   "outputs": [],
   "source": []
  },
  {
   "cell_type": "code",
   "execution_count": 100,
   "id": "d7f59068",
   "metadata": {},
   "outputs": [
    {
     "data": {
      "text/plain": [
       "'Filename is valid'"
      ]
     },
     "execution_count": 100,
     "metadata": {},
     "output_type": "execute_result"
    }
   ],
   "source": [
    "ValidateRVTOOLS.Meta.filename_success_message"
   ]
  },
  {
   "cell_type": "code",
   "execution_count": 101,
   "id": "f61432cf",
   "metadata": {},
   "outputs": [
    {
     "data": {
      "text/plain": [
       "'Filename is not valid'"
      ]
     },
     "execution_count": 101,
     "metadata": {},
     "output_type": "execute_result"
    }
   ],
   "source": [
    "ValidateRVTOOLS.Meta.filename_failed_message"
   ]
  },
  {
   "cell_type": "code",
   "execution_count": null,
   "id": "68b4af83",
   "metadata": {},
   "outputs": [],
   "source": []
  },
  {
   "cell_type": "code",
   "execution_count": null,
   "id": "2231f1f6",
   "metadata": {},
   "outputs": [],
   "source": []
  },
  {
   "cell_type": "code",
   "execution_count": null,
   "id": "10dfcfba",
   "metadata": {},
   "outputs": [],
   "source": [
    "# from .file_validators import GeneralValidator, validate_filename\n",
    "from licenseware import (\n",
    "    GeneralValidator, \n",
    "    validate_filename, \n",
    "    reason_response, \n",
    "    log\n",
    ")\n",
    "\n",
    "\n",
    "def valid_name(file_name):\n",
    "    return validate_filename(\n",
    "        fname=file_name, \n",
    "        fname_contains=['software', 'hardware', 'inventory'],\n",
    "        fname_endswith=[\".csv\"]\n",
    "    )\n",
    "    \n",
    "    \n",
    "def valid_file(check):\n",
    "    \n",
    "    if isinstance(check, dict):\n",
    "        if \"status\" in check:\n",
    "            if check['status'] == 'success':\n",
    "                return True\n",
    "            if check['status'] == 'fail':\n",
    "                return False\n",
    "    \n",
    "    if isinstance(check, bool):    \n",
    "        return check\n",
    "    \n",
    "    raise ValueError(\"Validation response must be either bool or dict\")\n",
    "    \n",
    "    \n",
    "def software_file_check(file, reason):\n",
    "    \n",
    "    columns_software  = ['software_key', 'software_publisher', 'software_name', 'version']\n",
    "\n",
    "    valid_software_csv = GeneralValidator(\n",
    "        input_object=file,\n",
    "        text_contains_all=columns_software\n",
    "    ).validate(show_reason=reason)\n",
    "    \n",
    "    return valid_software_csv\n",
    "    \n",
    "       \n",
    "       \n",
    "def inventory_file_check(file, reason):\n",
    "    \n",
    "    columns_inventory = ['device_key', 'software_key']\n",
    "    \n",
    "    valid_inventory_csv = GeneralValidator(\n",
    "        input_object=file,\n",
    "        text_contains_all=columns_inventory\n",
    "    ).validate(show_reason=reason)\n",
    "    \n",
    "    return valid_inventory_csv\n",
    "    \n",
    "    \n",
    "    \n",
    "def hardware_file_check(file, reason):\n",
    "    \n",
    "    columns_hardware  = ['device_key', 'device_name', 'os', 'device_manufacturer',\n",
    "    'device_model', 'asset_tag', 'number_of_processors', 'serial_number',\n",
    "    'processor_manufacturer', 'processor_model', 'domain',\n",
    "    'number_of_cores', 'ht_capable', 'ht_enabled', 'platform',\n",
    "    'virtual_flag']\n",
    "\n",
    "    valid_hardware_csv = GeneralValidator(\n",
    "        input_object=file,\n",
    "        text_contains_all=columns_hardware\n",
    "    ).validate(show_reason=reason)\n",
    "    \n",
    "    return valid_hardware_csv\n",
    "        \n",
    "    \n",
    "    \n",
    "    \n",
    "def columns_check(file, reason: bool):\n",
    "    \"\"\"\n",
    "        One file must be valid \n",
    "    \"\"\"\n",
    "    \n",
    "    software_check  = software_file_check(file, reason)\n",
    "    inventory_check = inventory_file_check(file, reason)\n",
    "    hardware_check  = hardware_file_check(file, reason)\n",
    "    \n",
    "    \n",
    "    # log.info(software_check)\n",
    "    if valid_file(software_check):\n",
    "        return software_check\n",
    "    \n",
    "    # log.info(inventory_check)\n",
    "    if valid_file(inventory_check):\n",
    "        return inventory_check\n",
    "    \n",
    "    # log.info(hardware_check)\n",
    "    if valid_file(hardware_check):\n",
    "        return hardware_check\n",
    "    \n",
    "    raise Exception(\"Input files are not supported\")\n",
    "        \n",
    "    \n",
    "\n",
    "def valid_sccm_file(file, reason=False):\n",
    "    \n",
    "    valid_fname, valid_contents = None, None\n",
    "    \n",
    "    if isinstance(file, str):\n",
    "        valid_fname = valid_name(file)\n",
    "        valid_contents = True\n",
    "        \n",
    "        \n",
    "    if \"stream\" in str(dir(file)):\n",
    "        \n",
    "        valid_fname = valid_name(file.filename)\n",
    "        \n",
    "        # log.warning(f\"{file.filename} {valid_fname}\")\n",
    "        \n",
    "        if valid_fname:\n",
    "            valid_contents = columns_check(file, reason)\n",
    "            # log.info(valid_contents)\n",
    "            \n",
    "    filename_nok_msg = 'There are 3 .csv files required for processing (hardware, inventory and software files).'\n",
    "\n",
    "    return reason_response(reason, valid_fname, valid_contents, filename_nok_msg)\n"
   ]
  },
  {
   "cell_type": "code",
   "execution_count": null,
   "id": "f585a4e2",
   "metadata": {},
   "outputs": [],
   "source": []
  },
  {
   "cell_type": "code",
   "execution_count": null,
   "id": "b3c6d33c",
   "metadata": {},
   "outputs": [],
   "source": []
  },
  {
   "cell_type": "code",
   "execution_count": null,
   "id": "d06d9bc5",
   "metadata": {},
   "outputs": [],
   "source": []
  },
  {
   "cell_type": "code",
   "execution_count": null,
   "id": "1d1f83f0",
   "metadata": {},
   "outputs": [],
   "source": []
  },
  {
   "cell_type": "code",
   "execution_count": null,
   "id": "ff725a10",
   "metadata": {},
   "outputs": [],
   "source": []
  },
  {
   "cell_type": "code",
   "execution_count": null,
   "id": "c4ee85b9",
   "metadata": {},
   "outputs": [],
   "source": []
  },
  {
   "cell_type": "code",
   "execution_count": null,
   "id": "3ec7efd5",
   "metadata": {},
   "outputs": [],
   "source": []
  },
  {
   "cell_type": "code",
   "execution_count": null,
   "id": "48d17e76",
   "metadata": {},
   "outputs": [],
   "source": []
  },
  {
   "cell_type": "code",
   "execution_count": null,
   "id": "01e69c40",
   "metadata": {},
   "outputs": [],
   "source": []
  },
  {
   "cell_type": "code",
   "execution_count": null,
   "id": "ac7a852d",
   "metadata": {},
   "outputs": [],
   "source": []
  },
  {
   "cell_type": "code",
   "execution_count": null,
   "id": "336a10d2",
   "metadata": {},
   "outputs": [],
   "source": []
  },
  {
   "cell_type": "code",
   "execution_count": null,
   "id": "a92d7b32",
   "metadata": {},
   "outputs": [],
   "source": []
  },
  {
   "cell_type": "code",
   "execution_count": null,
   "id": "5d993155",
   "metadata": {},
   "outputs": [],
   "source": []
  },
  {
   "cell_type": "code",
   "execution_count": null,
   "id": "3871c30e",
   "metadata": {},
   "outputs": [],
   "source": []
  },
  {
   "cell_type": "code",
   "execution_count": null,
   "id": "32b496e1",
   "metadata": {},
   "outputs": [],
   "source": []
  },
  {
   "cell_type": "code",
   "execution_count": null,
   "id": "2af134dd",
   "metadata": {},
   "outputs": [],
   "source": []
  },
  {
   "cell_type": "code",
   "execution_count": null,
   "id": "a85cce24",
   "metadata": {},
   "outputs": [],
   "source": []
  },
  {
   "cell_type": "code",
   "execution_count": null,
   "id": "810b0f52",
   "metadata": {},
   "outputs": [],
   "source": []
  },
  {
   "cell_type": "code",
   "execution_count": null,
   "id": "1980acc6",
   "metadata": {},
   "outputs": [],
   "source": []
  },
  {
   "cell_type": "code",
   "execution_count": null,
   "id": "effce029",
   "metadata": {},
   "outputs": [],
   "source": []
  },
  {
   "cell_type": "code",
   "execution_count": null,
   "id": "0cf5d653",
   "metadata": {},
   "outputs": [],
   "source": []
  },
  {
   "cell_type": "code",
   "execution_count": null,
   "id": "5220f6cb",
   "metadata": {},
   "outputs": [],
   "source": []
  }
 ],
 "metadata": {
  "kernelspec": {
   "display_name": "Python 3.8.5 64-bit",
   "language": "python",
   "name": "python385jvsc74a57bd031f2aee4e71d21fbe5cf8b01ff0e069b9275f58929596ceb00d14d90e3e16cd6"
  },
  "language_info": {
   "codemirror_mode": {
    "name": "ipython",
    "version": 3
   },
   "file_extension": ".py",
   "mimetype": "text/x-python",
   "name": "python",
   "nbconvert_exporter": "python",
   "pygments_lexer": "ipython3",
   "version": "3.8.10"
  }
 },
 "nbformat": 4,
 "nbformat_minor": 5
}
