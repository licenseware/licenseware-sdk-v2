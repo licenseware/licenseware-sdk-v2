{
 "cells": [
  {
   "cell_type": "code",
   "execution_count": 162,
   "id": "e4e5edc2",
   "metadata": {},
   "outputs": [],
   "source": [
    "import os\n",
    "import string\n",
    "import random\n",
    "from dataclasses import dataclass"
   ]
  },
  {
   "cell_type": "code",
   "execution_count": 188,
   "id": "63a64c42",
   "metadata": {},
   "outputs": [
    {
     "name": "stdout",
     "output_type": "stream",
     "text": [
      "4\n",
      "previous 4 now is 3\n"
     ]
    }
   ],
   "source": [
    "@dataclass\n",
    "class Data:\n",
    "    VALUE = random.choice(string.digits)\n",
    "    \n",
    "    @classmethod\n",
    "    def value(cls):\n",
    "        return f\"previous {cls.VALUE} now is {random.choice(string.digits)}\"\n",
    "\n",
    "\n",
    "print(Data.VALUE)\n",
    "print(Data.value())"
   ]
  },
  {
   "cell_type": "code",
   "execution_count": 189,
   "id": "fbd25d38",
   "metadata": {},
   "outputs": [],
   "source": [
    "import inspect"
   ]
  },
  {
   "cell_type": "code",
   "execution_count": 193,
   "id": "573387cf",
   "metadata": {},
   "outputs": [
    {
     "name": "stdout",
     "output_type": "stream",
     "text": [
      "True False\n",
      "False True\n"
     ]
    }
   ],
   "source": [
    "class aclass: ...\n",
    "def afunc(): ...\n",
    "\n",
    "print(inspect.isclass(aclass), inspect.isclass(afunc))\n",
    "print(inspect.isfunction(aclass), inspect.isfunction(afunc))"
   ]
  },
  {
   "cell_type": "code",
   "execution_count": 195,
   "id": "a1bf3dc3",
   "metadata": {},
   "outputs": [
    {
     "data": {
      "text/plain": [
       "[1, 2]"
      ]
     },
     "execution_count": 195,
     "metadata": {},
     "output_type": "execute_result"
    }
   ],
   "source": [
    "methods = [1]\n",
    "new_methods = [2]\n",
    "\n",
    "methods += new_methods\n",
    "\n",
    "methods"
   ]
  },
  {
   "cell_type": "code",
   "execution_count": 17,
   "id": "8d861160",
   "metadata": {},
   "outputs": [
    {
     "data": {
      "text/plain": [
       "mappingproxy({'__module__': '__main__',\n",
       "              '__init__': <function __main__.Data.__init__(self, name, description)>,\n",
       "              'get_name': <function __main__.Data.get_name(self)>,\n",
       "              '__dict__': <attribute '__dict__' of 'Data' objects>,\n",
       "              '__weakref__': <attribute '__weakref__' of 'Data' objects>,\n",
       "              '__doc__': None})"
      ]
     },
     "execution_count": 17,
     "metadata": {},
     "output_type": "execute_result"
    }
   ],
   "source": [
    "class Data:\n",
    "    def __init__(self, name, description):\n",
    "        self.name = name\n",
    "        self.description = description\n",
    "        \n",
    "        \n",
    "    def get_name(self, instance):\n",
    "        return vars(instance)\n",
    "\n",
    "d = Data('some name', 'some description')\n",
    "\n",
    "vars(d)\n",
    "\n",
    "d.get_name()"
   ]
  },
  {
   "cell_type": "code",
   "execution_count": null,
   "id": "85214b0b",
   "metadata": {},
   "outputs": [],
   "source": []
  },
  {
   "cell_type": "code",
   "execution_count": null,
   "id": "59da4a28",
   "metadata": {},
   "outputs": [],
   "source": []
  },
  {
   "cell_type": "code",
   "execution_count": null,
   "id": "5711a694",
   "metadata": {},
   "outputs": [],
   "source": []
  },
  {
   "cell_type": "code",
   "execution_count": null,
   "id": "effce029",
   "metadata": {},
   "outputs": [],
   "source": []
  },
  {
   "cell_type": "code",
   "execution_count": null,
   "id": "0cf5d653",
   "metadata": {},
   "outputs": [],
   "source": []
  },
  {
   "cell_type": "code",
   "execution_count": null,
   "id": "5220f6cb",
   "metadata": {},
   "outputs": [],
   "source": []
  }
 ],
 "metadata": {
  "kernelspec": {
   "display_name": "Python 3.8.5 64-bit",
   "language": "python",
   "name": "python385jvsc74a57bd031f2aee4e71d21fbe5cf8b01ff0e069b9275f58929596ceb00d14d90e3e16cd6"
  },
  "language_info": {
   "codemirror_mode": {
    "name": "ipython",
    "version": 3
   },
   "file_extension": ".py",
   "mimetype": "text/x-python",
   "name": "python",
   "nbconvert_exporter": "python",
   "pygments_lexer": "ipython3",
   "version": "3.8.10"
  }
 },
 "nbformat": 4,
 "nbformat_minor": 5
}
