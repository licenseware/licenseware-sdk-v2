{
 "cells": [
  {
   "cell_type": "code",
   "execution_count": null,
   "id": "e4e5edc2",
   "metadata": {},
   "outputs": [],
   "source": [
    "import os\n",
    "import string\n",
    "import random\n",
    "from dataclasses import dataclass\n",
    "from typing import List, Any"
   ]
  },
  {
   "cell_type": "code",
   "execution_count": null,
   "id": "a60cb272",
   "metadata": {},
   "outputs": [],
   "source": [
    "# https://marshmallow.readthedocs.io/en/stable/quickstart.html#field-validators-as-methods\n",
    "import re\n",
    "from marshmallow import Schema, fields, validates, validate, ValidationError\n",
    "from app.licenseware.common.validators.schema_validator import schema_validator as valid_data\n",
    "import pymongo\n",
    "from contextlib import contextmanager"
   ]
  },
  {
   "cell_type": "code",
   "execution_count": null,
   "id": "ff725a10",
   "metadata": {},
   "outputs": [],
   "source": [
    "@contextmanager\n",
    "def open_file(name):\n",
    "    f = open(name, 'w')\n",
    "    try:\n",
    "        yield f\n",
    "    finally:\n",
    "        f.close()"
   ]
  },
  {
   "cell_type": "code",
   "execution_count": null,
   "id": "c4ee85b9",
   "metadata": {},
   "outputs": [],
   "source": [
    "!ls"
   ]
  },
  {
   "cell_type": "code",
   "execution_count": null,
   "id": "ac7a852d",
   "metadata": {},
   "outputs": [],
   "source": [
    "from pymongo import MongoClient\n",
    "from pymongo.errors import ConnectionFailure\n",
    "\n",
    "client = MongoClient()\n",
    "\n",
    "try:\n",
    "    # The ping command is cheap and does not require auth.\n",
    "    client.admin.command('ping')\n",
    "except ConnectionFailure:\n",
    "    print(\"Server not available\")"
   ]
  },
  {
   "cell_type": "code",
   "execution_count": null,
   "id": "336a10d2",
   "metadata": {},
   "outputs": [],
   "source": [
    "client"
   ]
  },
  {
   "cell_type": "code",
   "execution_count": 3,
   "id": "5d993155",
   "metadata": {},
   "outputs": [
    {
     "ename": "TypeError",
     "evalue": "__init__() missing 3 required positional arguments: 'value_description', 'value_key', and 'icon'",
     "output_type": "error",
     "traceback": [
      "\u001b[0;31m---------------------------------------------------\u001b[0m",
      "\u001b[0;31mTypeError\u001b[0m         Traceback (most recent call last)",
      "\u001b[0;32m<ipython-input-3-920d062a7f81>\u001b[0m in \u001b[0;36m<module>\u001b[0;34m\u001b[0m\n\u001b[1;32m      9\u001b[0m     \u001b[0mseries\u001b[0m\u001b[0;34m:\u001b[0m\u001b[0mlist\u001b[0m \u001b[0;34m=\u001b[0m \u001b[0mfield\u001b[0m\u001b[0;34m(\u001b[0m\u001b[0mdefault_factory\u001b[0m\u001b[0;34m=\u001b[0m\u001b[0;32mlambda\u001b[0m\u001b[0;34m:\u001b[0m\u001b[0;34m[\u001b[0m\u001b[0;34m]\u001b[0m\u001b[0;34m)\u001b[0m\u001b[0;34m\u001b[0m\u001b[0;34m\u001b[0m\u001b[0m\n\u001b[1;32m     10\u001b[0m \u001b[0;34m\u001b[0m\u001b[0m\n\u001b[0;32m---> 11\u001b[0;31m \u001b[0mdata_props\u001b[0m \u001b[0;34m=\u001b[0m \u001b[0mdata_props\u001b[0m\u001b[0;34m(\u001b[0m\u001b[0;34m)\u001b[0m\u001b[0;34m\u001b[0m\u001b[0;34m\u001b[0m\u001b[0m\n\u001b[0m\u001b[1;32m     12\u001b[0m \u001b[0;34m\u001b[0m\u001b[0m\n\u001b[1;32m     13\u001b[0m \u001b[0mdata_props\u001b[0m\u001b[0;34m.\u001b[0m\u001b[0mseries\u001b[0m\u001b[0;34m.\u001b[0m\u001b[0mappend\u001b[0m\u001b[0;34m(\u001b[0m\u001b[0;34m)\u001b[0m\u001b[0;34m\u001b[0m\u001b[0;34m\u001b[0m\u001b[0m\n",
      "\u001b[0;31mTypeError\u001b[0m: __init__() missing 3 required positional arguments: 'value_description', 'value_key', and 'icon'"
     ]
    }
   ],
   "source": [
    "from dataclasses import dataclass, field\n",
    "\n",
    "\n",
    "class data_props:\n",
    "    value_description:str\n",
    "    value_key:str\n",
    "    icon:str\n",
    "    series:list = field(default_factory=lambda:[]) \n",
    "    \n",
    "data_props = data_props()\n",
    "\n",
    "data_props.series.append()\n",
    "\n"
   ]
  },
  {
   "cell_type": "code",
   "execution_count": null,
   "id": "0b2dbe17",
   "metadata": {},
   "outputs": [],
   "source": []
  },
  {
   "cell_type": "code",
   "execution_count": null,
   "id": "49f8be9f",
   "metadata": {},
   "outputs": [],
   "source": []
  },
  {
   "cell_type": "code",
   "execution_count": null,
   "id": "f6e697bf",
   "metadata": {},
   "outputs": [],
   "source": []
  },
  {
   "cell_type": "code",
   "execution_count": null,
   "id": "fb229270",
   "metadata": {},
   "outputs": [],
   "source": []
  },
  {
   "cell_type": "code",
   "execution_count": null,
   "id": "2af134dd",
   "metadata": {},
   "outputs": [],
   "source": [
    "VirtualizationReport.register_component(StandardReportComponent(\n",
    "    data={\n",
    "        \"component_id\": \"virtual_overview\",\n",
    "        \"url\": \"/virtual_overview\",\n",
    "        \"order\": 1,\n",
    "        \"style_props\": {\n",
    "            \"width\": \"1/3\"\n",
    "        },\n",
    "        \"attributes\": {\n",
    "            \"series\": [\n",
    "                {\n",
    "                    \"value_description\": \"Missing parent details\",\n",
    "                    \"value_key\": \"missing_parent_details\",\n",
    "                    \"icon\": \"FeaturesIcon\"\n",
    "                },\n",
    "                {\n",
    "                    \"value_description\": \"Unknown device types\",\n",
    "                    \"value_key\": \"unknown_types\",\n",
    "                    \"icon\": \"ServersIcon\"\n",
    "                },\n",
    "                {\n",
    "                    \"value_description\": \"Missing cores info\",\n",
    "                    \"value_key\": \"missing_cores_info\",\n",
    "                    \"icon\": \"CpuIcon\"\n",
    "                }\n",
    "            ]\n",
    "        },\n",
    "        \"title\": \"Overview\",\n",
    "        \"type\": \"summary\",\n",
    "        \"icon\": \"ServersIcon\"\n",
    "    }, fetch_function=IFMPComponents.virtualization_overview\n",
    "))\n"
   ]
  },
  {
   "cell_type": "code",
   "execution_count": null,
   "id": "a85cce24",
   "metadata": {},
   "outputs": [],
   "source": []
  },
  {
   "cell_type": "code",
   "execution_count": null,
   "id": "810b0f52",
   "metadata": {},
   "outputs": [],
   "source": []
  },
  {
   "cell_type": "code",
   "execution_count": null,
   "id": "1980acc6",
   "metadata": {},
   "outputs": [],
   "source": []
  },
  {
   "cell_type": "code",
   "execution_count": null,
   "id": "effce029",
   "metadata": {},
   "outputs": [],
   "source": []
  },
  {
   "cell_type": "code",
   "execution_count": null,
   "id": "0cf5d653",
   "metadata": {},
   "outputs": [],
   "source": []
  },
  {
   "cell_type": "code",
   "execution_count": null,
   "id": "5220f6cb",
   "metadata": {},
   "outputs": [],
   "source": []
  }
 ],
 "metadata": {
  "kernelspec": {
   "display_name": "Python 3.8.5 64-bit",
   "language": "python",
   "name": "python385jvsc74a57bd031f2aee4e71d21fbe5cf8b01ff0e069b9275f58929596ceb00d14d90e3e16cd6"
  },
  "language_info": {
   "codemirror_mode": {
    "name": "ipython",
    "version": 3
   },
   "file_extension": ".py",
   "mimetype": "text/x-python",
   "name": "python",
   "nbconvert_exporter": "python",
   "pygments_lexer": "ipython3",
   "version": "3.8.10"
  }
 },
 "nbformat": 4,
 "nbformat_minor": 5
}
