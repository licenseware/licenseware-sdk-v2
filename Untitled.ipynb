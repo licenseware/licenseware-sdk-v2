{
 "cells": [
  {
   "cell_type": "code",
   "execution_count": 1,
   "id": "4aebf815",
   "metadata": {},
   "outputs": [],
   "source": [
    "from marshmallow import Schema, fields\n",
    "from app.licenseware.common.validators import validate_uuid4\n",
    "import uuid"
   ]
  },
  {
   "cell_type": "code",
   "execution_count": 3,
   "id": "7980b529",
   "metadata": {
    "scrolled": true
   },
   "outputs": [
    {
     "data": {
      "text/plain": [
       "{'updated_at': 'some date',\n",
       " 'tenant_ids': ['18607c7d-34e4-403b-83c5-80f087d7a7e7'],\n",
       " 'tenant_id': '476d0f75-d737-403a-9a55-14ded2876968'}"
      ]
     },
     "execution_count": 3,
     "metadata": {},
     "output_type": "execute_result"
    }
   ],
   "source": [
    "class BaseSchema(Schema):\n",
    "    tenant_id = fields.Str(required=True, validate=validate_uuid4)\n",
    "    updated_at = fields.Str(required=True)\n",
    "    tenant_ids = fields.List(fields.Str, validate=validate_uuid4, required=True) \n",
    "\n",
    "data = {\n",
    "    'tenant_id': str(uuid.uuid4()),\n",
    "    'updated_at': 'some date',\n",
    "    'tenant_ids': [str(uuid.uuid4())]\n",
    "}\n",
    "\n",
    "data = BaseSchema().load(data)\n",
    "data"
   ]
  },
  {
   "cell_type": "code",
   "execution_count": 15,
   "id": "d329a64f",
   "metadata": {},
   "outputs": [
    {
     "data": {
      "text/plain": [
       "{'app_id': 'ifmp',\n",
       " 'name': 'Infrastructure Mapper',\n",
       " 'tenants_with_app_activated': [],\n",
       " 'tenants_with_data_available': [],\n",
       " 'description': 'Overview of devices and networks',\n",
       " 'flags': ['beta'],\n",
       " 'icon': 'default.png',\n",
       " 'refresh_registration_url': 'http://localhost:5000/ifmp/register_all',\n",
       " 'app_activation_url': 'http://localhost:5000/ifmp/app/init',\n",
       " 'editable_tables_url': 'http://localhost:5000/ifmp/editable_tables',\n",
       " 'history_report_url': 'http://localhost:5000/ifmp/reports/history_report',\n",
       " 'tenant_registration_url': 'http://localhost:5000/ifmp/tenant_registration_url'}"
      ]
     },
     "execution_count": 15,
     "metadata": {},
     "output_type": "execute_result"
    }
   ],
   "source": [
    "{'app_id': 'ifmp', 'name': 'Infrastructure Mapper', 'tenants_with_app_activated': [], 'tenants_with_data_available': [], 'description': 'Overview of devices and networks', 'flags': ['beta'], 'icon': 'default.png', 'refresh_registration_url': 'http://localhost:5000/ifmp/register_all', 'app_activation_url': 'http://localhost:5000/ifmp/app/init', 'editable_tables_url': 'http://localhost:5000/ifmp/editable_tables', 'history_report_url': 'http://localhost:5000/ifmp/reports/history_report', 'tenant_registration_url': 'http://localhost:5000/ifmp/tenant_registration_url'}"
   ]
  },
  {
   "cell_type": "code",
   "execution_count": null,
   "id": "e71f0437",
   "metadata": {},
   "outputs": [],
   "source": []
  },
  {
   "cell_type": "code",
   "execution_count": null,
   "id": "a85cce24",
   "metadata": {},
   "outputs": [],
   "source": []
  },
  {
   "cell_type": "code",
   "execution_count": null,
   "id": "810b0f52",
   "metadata": {},
   "outputs": [],
   "source": []
  },
  {
   "cell_type": "code",
   "execution_count": null,
   "id": "1980acc6",
   "metadata": {},
   "outputs": [],
   "source": []
  },
  {
   "cell_type": "code",
   "execution_count": null,
   "id": "effce029",
   "metadata": {},
   "outputs": [],
   "source": []
  },
  {
   "cell_type": "code",
   "execution_count": null,
   "id": "0cf5d653",
   "metadata": {},
   "outputs": [],
   "source": []
  },
  {
   "cell_type": "code",
   "execution_count": null,
   "id": "5220f6cb",
   "metadata": {},
   "outputs": [],
   "source": []
  }
 ],
 "metadata": {
  "kernelspec": {
   "display_name": "Python 3.8.5 64-bit",
   "language": "python",
   "name": "python385jvsc74a57bd031f2aee4e71d21fbe5cf8b01ff0e069b9275f58929596ceb00d14d90e3e16cd6"
  },
  "language_info": {
   "codemirror_mode": {
    "name": "ipython",
    "version": 3
   },
   "file_extension": ".py",
   "mimetype": "text/x-python",
   "name": "python",
   "nbconvert_exporter": "python",
   "pygments_lexer": "ipython3",
   "version": "3.8.10"
  }
 },
 "nbformat": 4,
 "nbformat_minor": 5
}
