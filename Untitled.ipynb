{
 "cells": [
  {
   "cell_type": "code",
   "execution_count": 8,
   "id": "c4eca3f3",
   "metadata": {},
   "outputs": [],
   "source": [
    "payload = {\n",
    "        'data': [{\n",
    "            \"app_id\": \"app_id\",\n",
    "            \"report_id\": \"report_id\",\n",
    "            \"report_name\": \"kwargs['name']\",\n",
    "            \"description\": \"kwargs['description']\",\n",
    "            \"flags\": \"kwargs['flags']\",\n",
    "            \"url\": \"kwargs['url']\",\n",
    "            # TODO update registry service\n",
    "            # \"preview_image_url\":kwargs['preview_image_url'],\n",
    "            # \"report_components\":  kwargs['report_components'],\n",
    "            \"connected_apps\": \"kwargs['connected_apps']\",\n",
    "            # \"filters\" : kwargs['filters']\n",
    "        }]\n",
    "    }\n",
    "\n",
    "headers = {\"Authorization\": \"envs.get_auth_token()\"}\n",
    "post_kwargs = dict(url=\"envs.REGISTER_REPORT_URL\", json=payload, headers=headers)"
   ]
  },
  {
   "cell_type": "code",
   "execution_count": 12,
   "id": "b8877554",
   "metadata": {},
   "outputs": [
    {
     "data": {
      "text/plain": [
       "[{'url': 'envs.REGISTER_REPORT_URL',\n",
       "  'json': {'data': [{'app_id': 'app_id',\n",
       "     'report_id': 'report_id',\n",
       "     'report_name': \"kwargs['name']\",\n",
       "     'description': \"kwargs['description']\",\n",
       "     'flags': \"kwargs['flags']\",\n",
       "     'url': \"kwargs['url']\",\n",
       "     'connected_apps': \"kwargs['connected_apps']\"}]},\n",
       "  'headers': {'Authorization': 'envs.get_auth_token()'}},\n",
       " {'url': 'envs.REGISTER_REPORT_URL',\n",
       "  'json': {'data': [{'app_id': 'app_id',\n",
       "     'report_id': 'report_id',\n",
       "     'report_name': \"kwargs['name']\",\n",
       "     'description': \"kwargs['description']\",\n",
       "     'flags': \"kwargs['flags']\",\n",
       "     'url': \"kwargs['url']\",\n",
       "     'connected_apps': \"kwargs['connected_apps']\"}]},\n",
       "  'headers': {'Authorization': 'envs.get_auth_token()'}}]"
      ]
     },
     "execution_count": 12,
     "metadata": {},
     "output_type": "execute_result"
    }
   ],
   "source": [
    "post_data_list = [post_kwargs, post_kwargs]\n",
    "post_data_list"
   ]
  },
  {
   "cell_type": "code",
   "execution_count": 16,
   "id": "53973e3e",
   "metadata": {},
   "outputs": [],
   "source": [
    "payload_data = {'data': []}\n",
    "for post_data in post_data_list:\n",
    "    payload_data['data'].extend(post_data['json']['data'])"
   ]
  },
  {
   "cell_type": "code",
   "execution_count": 17,
   "id": "08fab017",
   "metadata": {},
   "outputs": [
    {
     "data": {
      "text/plain": [
       "{'data': [{'app_id': 'app_id',\n",
       "   'report_id': 'report_id',\n",
       "   'report_name': \"kwargs['name']\",\n",
       "   'description': \"kwargs['description']\",\n",
       "   'flags': \"kwargs['flags']\",\n",
       "   'url': \"kwargs['url']\",\n",
       "   'connected_apps': \"kwargs['connected_apps']\"},\n",
       "  {'app_id': 'app_id',\n",
       "   'report_id': 'report_id',\n",
       "   'report_name': \"kwargs['name']\",\n",
       "   'description': \"kwargs['description']\",\n",
       "   'flags': \"kwargs['flags']\",\n",
       "   'url': \"kwargs['url']\",\n",
       "   'connected_apps': \"kwargs['connected_apps']\"}]}"
      ]
     },
     "execution_count": 17,
     "metadata": {},
     "output_type": "execute_result"
    }
   ],
   "source": [
    "payload_data"
   ]
  },
  {
   "cell_type": "code",
   "execution_count": null,
   "id": "47f1a8c0",
   "metadata": {},
   "outputs": [],
   "source": []
  },
  {
   "cell_type": "code",
   "execution_count": null,
   "id": "4027eaa1",
   "metadata": {},
   "outputs": [],
   "source": []
  },
  {
   "cell_type": "code",
   "execution_count": null,
   "id": "d483c0b6",
   "metadata": {},
   "outputs": [],
   "source": []
  },
  {
   "cell_type": "code",
   "execution_count": null,
   "id": "5e3d90c6",
   "metadata": {},
   "outputs": [],
   "source": []
  },
  {
   "cell_type": "code",
   "execution_count": null,
   "id": "fa2e1fac",
   "metadata": {},
   "outputs": [],
   "source": []
  },
  {
   "cell_type": "code",
   "execution_count": null,
   "id": "fbf17d4a",
   "metadata": {},
   "outputs": [],
   "source": []
  },
  {
   "cell_type": "code",
   "execution_count": null,
   "id": "1d9275ee",
   "metadata": {},
   "outputs": [],
   "source": []
  },
  {
   "cell_type": "code",
   "execution_count": null,
   "id": "599732d1",
   "metadata": {},
   "outputs": [],
   "source": []
  },
  {
   "cell_type": "code",
   "execution_count": null,
   "id": "cc49225d",
   "metadata": {},
   "outputs": [],
   "source": []
  },
  {
   "cell_type": "code",
   "execution_count": null,
   "id": "d98939b9",
   "metadata": {},
   "outputs": [],
   "source": []
  }
 ],
 "metadata": {
  "kernelspec": {
   "display_name": "Python 3",
   "language": "python",
   "name": "python3"
  },
  "language_info": {
   "codemirror_mode": {
    "name": "ipython",
    "version": 3
   },
   "file_extension": ".py",
   "mimetype": "text/x-python",
   "name": "python",
   "nbconvert_exporter": "python",
   "pygments_lexer": "ipython3",
   "version": "3.8.10"
  }
 },
 "nbformat": 4,
 "nbformat_minor": 5
}
