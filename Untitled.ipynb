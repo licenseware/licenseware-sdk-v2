{
 "cells": [
  {
   "cell_type": "code",
   "execution_count": 23,
   "id": "e4e5edc2",
   "metadata": {},
   "outputs": [],
   "source": [
    "import os\n",
    "import string\n",
    "import random\n",
    "from dataclasses import dataclass\n",
    "from typing import List, Any"
   ]
  },
  {
   "cell_type": "code",
   "execution_count": 24,
   "id": "a60cb272",
   "metadata": {},
   "outputs": [],
   "source": [
    "# https://marshmallow.readthedocs.io/en/stable/quickstart.html#field-validators-as-methods\n",
    "import re\n",
    "from marshmallow import Schema, fields, validates, validate, ValidationError\n",
    "from app.licenseware.common.validators.schema_validator import schema_validator as valid_data"
   ]
  },
  {
   "cell_type": "code",
   "execution_count": 25,
   "id": "1c35bc3d",
   "metadata": {},
   "outputs": [],
   "source": [
    "from app.licenseware.common.validators.file_validators import (\n",
    "    GeneralValidator, \n",
    "    validate_filename\n",
    ")"
   ]
  },
  {
   "cell_type": "code",
   "execution_count": null,
   "id": "89337dc9",
   "metadata": {},
   "outputs": [],
   "source": []
  },
  {
   "cell_type": "code",
   "execution_count": null,
   "id": "cb60c123",
   "metadata": {},
   "outputs": [],
   "source": []
  },
  {
   "cell_type": "code",
   "execution_count": null,
   "id": "fe8c9857",
   "metadata": {},
   "outputs": [],
   "source": [
    "def _upload_response(self, request_obj, event_type):\n",
    "\n",
    "    file_objects = request_obj.files.getlist(\"files[]\")\n",
    "    if not isinstance(file_objects, list) and file_objects:\n",
    "        return {\"status\": \"fail\", \"message\": \"key needs to be files[]\"}, 400\n",
    "\n",
    "    saved_files, validation = [], []\n",
    "    for file in file_objects:\n",
    "        res = self.validation_function(file, reason=True)\n",
    "        if res['status'] == \"success\":\n",
    "            filename = save_file(file, request_obj.headers.get(\"TenantId\"))\n",
    "            saved_files.append(filename)\n",
    "        else:\n",
    "            filename = file.filename\n",
    "\n",
    "        validation.append({\n",
    "            \"filename\": filename, \"status\": res['status'], \"message\": res['message']\n",
    "        })\n",
    "\n",
    "\n",
    "    if not saved_files:\n",
    "        return {\n",
    "            \"status\": \"fail\", \"message\": \"no valid files provided\", \"validation\": validation\n",
    "        }, 400\n",
    "\n",
    "\n",
    "\n",
    "    event = {\n",
    "        \"tenant_id\": request_obj.headers.get(\"TenantId\"),\n",
    "        \"files\": \",\".join(saved_files),\n",
    "        \"event_type\": event_type\n",
    "    }\n",
    "\n",
    "    validate_event(event)\n",
    "    broker.actors[event_type].send(event)\n",
    "\n",
    "    # DramatiqEvent.send(event)\n",
    "    # RedisService.send_stream_event({\n",
    "    #     \"tenant_id\": request_obj.headers.get(\"TenantId\"),\n",
    "    #     \"files\": \",\".join(saved_files),\n",
    "    #     \"event_type\": event_type\n",
    "    # })\n",
    "\n",
    "    return {\"status\": \"success\", \"message\": \"files uploaded successfuly\", \n",
    "        \"units\": len(saved_files), \n",
    "        \"validation\": validation\n",
    "    }, 200"
   ]
  },
  {
   "cell_type": "code",
   "execution_count": null,
   "id": "44f1c792",
   "metadata": {},
   "outputs": [],
   "source": [
    "def _filenames_response(self, request_obj, filename_ok_msg='Filename is valid.', filename_nok_msg='Filename is not valid.'):\n",
    "\n",
    "    filenames = request_obj.json\n",
    "\n",
    "    if not isinstance(filenames, list) and filenames:\n",
    "        return {'status': 'fail', 'message': 'Must be a list of filenames.'}, 400\n",
    "\n",
    "    validation, accepted_files = [], []\n",
    "    for filename in filenames:\n",
    "        status, message = 'fail', filename_nok_msg\n",
    "        if self.validation_function(filename):\n",
    "            accepted_files.append(filename)\n",
    "            status, message = 'success', filename_ok_msg\n",
    "\n",
    "        validation.append({\n",
    "            \"filename\": filename, \"status\": status, \"message\": message\n",
    "        })\n",
    "\n",
    "    if not accepted_files:\n",
    "        return {\n",
    "            'status': 'fail', \n",
    "            'message': filename_nok_msg,\n",
    "            'validation': validation,\n",
    "            'units': 0\n",
    "        }, 400\n",
    "\n",
    "    return {\n",
    "        'status': 'success', \n",
    "        'message': 'Filenames are valid.',\n",
    "        'validation': validation,\n",
    "        'units': len(accepted_files)\n",
    "    }, 200\n"
   ]
  },
  {
   "cell_type": "code",
   "execution_count": null,
   "id": "f585a4e2",
   "metadata": {},
   "outputs": [],
   "source": [
    "\n",
    "def valid_rv_tools_file(file, reason=False):\n",
    "    \n",
    "    valid_fname, valid_contents = None, None\n",
    "    \n",
    "    if isinstance(file, str):\n",
    "        valid_fname = validate_filename(file, ['RV', 'Tools'], ['.xls', '.xlsx'])\n",
    "        valid_contents = True\n",
    "\n",
    "    if \"stream\" in str(dir(file)):\n",
    "        valid_fname = validate_filename(file.filename, ['RV', 'Tools'], ['.xls', '.xlsx'])\n",
    "        if valid_fname:\n",
    "            valid_contents = GeneralValidator(\n",
    "                input_object=file,\n",
    "                required_input_type=\"excel\",\n",
    "                min_rows_number=1,\n",
    "                required_sheets=['tabvInfo', 'tabvCPU', 'tabvHost', 'tabvCluster'],\n",
    "                required_columns=[\n",
    "                    'VM', 'Host', 'OS', 'Sockets', 'CPUs', 'Model', 'CPU Model',\n",
    "                    'Cluster', '# CPU', '# Cores', 'ESX Version', 'HT Active',\n",
    "                    'Name', 'NumCpuThreads', 'NumCpuCores'\n",
    "                ]).validate(reason)\n",
    "\n",
    "    filename_nok_msg = 'Files must be of type \".xls\" or \".xlsx\" and contain \"RV\" and/or \"Tools\" in filename.'\n",
    "    return reason_response(reason, valid_fname, valid_contents, filename_nok_msg)\n"
   ]
  },
  {
   "cell_type": "code",
   "execution_count": null,
   "id": "b3c6d33c",
   "metadata": {},
   "outputs": [],
   "source": []
  },
  {
   "cell_type": "code",
   "execution_count": null,
   "id": "d06d9bc5",
   "metadata": {},
   "outputs": [],
   "source": []
  },
  {
   "cell_type": "code",
   "execution_count": null,
   "id": "1d1f83f0",
   "metadata": {},
   "outputs": [],
   "source": []
  },
  {
   "cell_type": "code",
   "execution_count": null,
   "id": "ff725a10",
   "metadata": {},
   "outputs": [],
   "source": []
  },
  {
   "cell_type": "code",
   "execution_count": null,
   "id": "c4ee85b9",
   "metadata": {},
   "outputs": [],
   "source": []
  },
  {
   "cell_type": "code",
   "execution_count": null,
   "id": "3ec7efd5",
   "metadata": {},
   "outputs": [],
   "source": []
  },
  {
   "cell_type": "code",
   "execution_count": null,
   "id": "48d17e76",
   "metadata": {},
   "outputs": [],
   "source": []
  },
  {
   "cell_type": "code",
   "execution_count": null,
   "id": "01e69c40",
   "metadata": {},
   "outputs": [],
   "source": []
  },
  {
   "cell_type": "code",
   "execution_count": null,
   "id": "ac7a852d",
   "metadata": {},
   "outputs": [],
   "source": []
  },
  {
   "cell_type": "code",
   "execution_count": null,
   "id": "336a10d2",
   "metadata": {},
   "outputs": [],
   "source": []
  },
  {
   "cell_type": "code",
   "execution_count": null,
   "id": "a92d7b32",
   "metadata": {},
   "outputs": [],
   "source": []
  },
  {
   "cell_type": "code",
   "execution_count": null,
   "id": "5d993155",
   "metadata": {},
   "outputs": [],
   "source": []
  },
  {
   "cell_type": "code",
   "execution_count": null,
   "id": "3871c30e",
   "metadata": {},
   "outputs": [],
   "source": []
  },
  {
   "cell_type": "code",
   "execution_count": null,
   "id": "32b496e1",
   "metadata": {},
   "outputs": [],
   "source": []
  },
  {
   "cell_type": "code",
   "execution_count": null,
   "id": "2af134dd",
   "metadata": {},
   "outputs": [],
   "source": []
  },
  {
   "cell_type": "code",
   "execution_count": null,
   "id": "a85cce24",
   "metadata": {},
   "outputs": [],
   "source": []
  },
  {
   "cell_type": "code",
   "execution_count": null,
   "id": "810b0f52",
   "metadata": {},
   "outputs": [],
   "source": []
  },
  {
   "cell_type": "code",
   "execution_count": null,
   "id": "1980acc6",
   "metadata": {},
   "outputs": [],
   "source": []
  },
  {
   "cell_type": "code",
   "execution_count": null,
   "id": "effce029",
   "metadata": {},
   "outputs": [],
   "source": []
  },
  {
   "cell_type": "code",
   "execution_count": null,
   "id": "0cf5d653",
   "metadata": {},
   "outputs": [],
   "source": []
  },
  {
   "cell_type": "code",
   "execution_count": null,
   "id": "5220f6cb",
   "metadata": {},
   "outputs": [],
   "source": []
  }
 ],
 "metadata": {
  "kernelspec": {
   "display_name": "Python 3.8.5 64-bit",
   "language": "python",
   "name": "python385jvsc74a57bd031f2aee4e71d21fbe5cf8b01ff0e069b9275f58929596ceb00d14d90e3e16cd6"
  },
  "language_info": {
   "codemirror_mode": {
    "name": "ipython",
    "version": 3
   },
   "file_extension": ".py",
   "mimetype": "text/x-python",
   "name": "python",
   "nbconvert_exporter": "python",
   "pygments_lexer": "ipython3",
   "version": "3.8.10"
  }
 },
 "nbformat": 4,
 "nbformat_minor": 5
}
