{
 "cells": [
  {
   "cell_type": "code",
   "execution_count": null,
   "id": "e81cb7c8",
   "metadata": {},
   "outputs": [],
   "source": [
    "!ls"
   ]
  },
  {
   "cell_type": "code",
   "execution_count": 1,
   "id": "05efe3a4",
   "metadata": {},
   "outputs": [],
   "source": [
    "import_uploader_str = 'from app.uploaders.rv_tools import rv_tools_uploader'\n",
    "register_uploader_str = \"App.register_uploader(rv_tools_uploader)\""
   ]
  },
  {
   "cell_type": "code",
   "execution_count": 2,
   "id": "dbad0f92",
   "metadata": {
    "scrolled": true
   },
   "outputs": [
    {
     "data": {
      "text/plain": [
       "['from licenseware.common.constants import flags\\n',\n",
       " 'from licenseware.app_builder import AppBuilder\\n',\n",
       " '\\n',\n",
       " '\\n',\n",
       " '\\n',\n",
       " 'App = AppBuilder(\\n',\n",
       " \"    name = 'App Name',\\n\",\n",
       " \"    description = 'App long description',\\n\",\n",
       " '    flags = [flags.BETA]\\n',\n",
       " ')\\n',\n",
       " '\\n']"
      ]
     },
     "execution_count": 2,
     "metadata": {},
     "output_type": "execute_result"
    }
   ],
   "source": [
    "with open('test.py', 'r') as f:\n",
    "    data = f.readlines()\n",
    "    \n",
    "data"
   ]
  },
  {
   "cell_type": "code",
   "execution_count": 3,
   "id": "8b4ee3ad",
   "metadata": {},
   "outputs": [
    {
     "data": {
      "text/plain": [
       "['from licenseware.common.constants import flags\\n',\n",
       " 'from licenseware.app_builder import AppBuilder\\n',\n",
       " '\\n',\n",
       " '\\n',\n",
       " 'from app.uploaders.rv_tools import rv_tools_uploader',\n",
       " '\\n',\n",
       " '\\n',\n",
       " 'App = AppBuilder(\\n',\n",
       " \"    name = 'App Name',\\n\",\n",
       " \"    description = 'App long description',\\n\",\n",
       " '    flags = [flags.BETA]\\n',\n",
       " ')\\n',\n",
       " '\\n']"
      ]
     },
     "execution_count": 3,
     "metadata": {},
     "output_type": "execute_result"
    }
   ],
   "source": [
    "data.insert(4, import_uploader_str)\n",
    "data.insert(5, '\\n')\n",
    "\n",
    "data"
   ]
  },
  {
   "cell_type": "code",
   "execution_count": 4,
   "id": "527edaed",
   "metadata": {},
   "outputs": [
    {
     "data": {
      "text/plain": [
       "['from licenseware.common.constants import flags\\n',\n",
       " 'from licenseware.app_builder import AppBuilder\\n',\n",
       " '\\n',\n",
       " '\\n',\n",
       " 'from app.uploaders.rv_tools import rv_tools_uploader',\n",
       " '\\n',\n",
       " '\\n',\n",
       " 'App = AppBuilder(\\n',\n",
       " \"    name = 'App Name',\\n\",\n",
       " \"    description = 'App long description',\\n\",\n",
       " '    flags = [flags.BETA]\\n',\n",
       " ')\\n',\n",
       " 'App.register_uploader(rv_tools_uploader)',\n",
       " '\\n',\n",
       " '\\n']"
      ]
     },
     "execution_count": 4,
     "metadata": {},
     "output_type": "execute_result"
    }
   ],
   "source": [
    "data.insert(-1, register_uploader_str)\n",
    "data.insert(-1, '\\n')\n",
    "\n",
    "\n",
    "data"
   ]
  },
  {
   "cell_type": "code",
   "execution_count": 5,
   "id": "ed0dc4cc",
   "metadata": {},
   "outputs": [
    {
     "name": "stdout",
     "output_type": "stream",
     "text": [
      "from licenseware.common.constants import flags\n",
      "from licenseware.app_builder import AppBuilder\n",
      "\n",
      "\n",
      "from app.uploaders.rv_tools import rv_tools_uploader\n",
      "\n",
      "App = AppBuilder(\n",
      "    name = 'App Name',\n",
      "    description = 'App long description',\n",
      "    flags = [flags.BETA]\n",
      ")\n",
      "App.register_uploader(rv_tools_uploader)\n",
      "\n",
      "\n"
     ]
    }
   ],
   "source": [
    "data = \"\".join(data)\n",
    "print(data)"
   ]
  },
  {
   "cell_type": "code",
   "execution_count": null,
   "id": "91cb61e4",
   "metadata": {},
   "outputs": [],
   "source": []
  },
  {
   "cell_type": "code",
   "execution_count": null,
   "id": "f0dbe296",
   "metadata": {},
   "outputs": [],
   "source": []
  },
  {
   "cell_type": "code",
   "execution_count": null,
   "id": "52ba540d",
   "metadata": {},
   "outputs": [],
   "source": []
  },
  {
   "cell_type": "code",
   "execution_count": null,
   "id": "0b387888",
   "metadata": {},
   "outputs": [],
   "source": []
  },
  {
   "cell_type": "code",
   "execution_count": null,
   "id": "c0ea034b",
   "metadata": {},
   "outputs": [],
   "source": []
  }
 ],
 "metadata": {
  "kernelspec": {
   "display_name": "Python 3",
   "language": "python",
   "name": "python3"
  },
  "language_info": {
   "codemirror_mode": {
    "name": "ipython",
    "version": 3
   },
   "file_extension": ".py",
   "mimetype": "text/x-python",
   "name": "python",
   "nbconvert_exporter": "python",
   "pygments_lexer": "ipython3",
   "version": "3.8.10"
  }
 },
 "nbformat": 4,
 "nbformat_minor": 5
}
