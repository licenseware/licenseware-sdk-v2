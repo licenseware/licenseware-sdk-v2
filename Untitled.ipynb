{
 "cells": [
  {
   "cell_type": "code",
   "execution_count": 6,
   "id": "6969a4ac",
   "metadata": {},
   "outputs": [
    {
     "data": {
      "text/plain": [
       "{'event_id': {'description': 'The uuid4 received on when filenames were sent to uploader detector'}}"
      ]
     },
     "execution_count": 6,
     "metadata": {},
     "output_type": "execute_result"
    }
   ],
   "source": [
    "params = {\n",
    "    'description': 'Get detected uploaders for the app provided', \n",
    "    'params': {\n",
    "        'event_id': { \n",
    "            'description': 'The uuid4 received on when filenames were sent to uploader detector' \n",
    "        }\n",
    "    }\n",
    "}\n",
    "\n"
   ]
  },
  {
   "cell_type": "code",
   "execution_count": 7,
   "id": "8064d7f4",
   "metadata": {},
   "outputs": [],
   "source": [
    "params['params'].update({'other_param': {'description': 'The uuid4 received on when filenames were sent to uploader detector'}})"
   ]
  },
  {
   "cell_type": "code",
   "execution_count": 8,
   "id": "cadc9e3c",
   "metadata": {},
   "outputs": [
    {
     "data": {
      "text/plain": [
       "{'event_id': {'description': 'The uuid4 received on when filenames were sent to uploader detector'},\n",
       " 'other_param': {'description': 'The uuid4 received on when filenames were sent to uploader detector'}}"
      ]
     },
     "execution_count": 8,
     "metadata": {},
     "output_type": "execute_result"
    }
   ],
   "source": [
    "params['params']"
   ]
  },
  {
   "cell_type": "code",
   "execution_count": 10,
   "id": "0791312e",
   "metadata": {},
   "outputs": [],
   "source": [
    "params = {'param_name': 'param description '}"
   ]
  },
  {
   "cell_type": "code",
   "execution_count": 11,
   "id": "425b6b42",
   "metadata": {},
   "outputs": [
    {
     "data": {
      "text/plain": [
       "{'param_name': 'param description '}"
      ]
     },
     "execution_count": 11,
     "metadata": {},
     "output_type": "execute_result"
    }
   ],
   "source": [
    "for key, val in params.items():\n",
    "    "
   ]
  },
  {
   "cell_type": "code",
   "execution_count": null,
   "id": "599732d1",
   "metadata": {},
   "outputs": [],
   "source": []
  },
  {
   "cell_type": "code",
   "execution_count": null,
   "id": "cc49225d",
   "metadata": {},
   "outputs": [],
   "source": []
  },
  {
   "cell_type": "code",
   "execution_count": null,
   "id": "d98939b9",
   "metadata": {},
   "outputs": [],
   "source": []
  }
 ],
 "metadata": {
  "kernelspec": {
   "display_name": "Python 3",
   "language": "python",
   "name": "python3"
  },
  "language_info": {
   "codemirror_mode": {
    "name": "ipython",
    "version": 3
   },
   "file_extension": ".py",
   "mimetype": "text/x-python",
   "name": "python",
   "nbconvert_exporter": "python",
   "pygments_lexer": "ipython3",
   "version": "3.8.10"
  }
 },
 "nbformat": 4,
 "nbformat_minor": 5
}
