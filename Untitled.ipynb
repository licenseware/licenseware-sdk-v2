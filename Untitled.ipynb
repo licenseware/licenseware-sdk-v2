{
 "cells": [
  {
   "cell_type": "code",
   "execution_count": null,
   "id": "3545a149",
   "metadata": {},
   "outputs": [],
   "source": []
  },
  {
   "cell_type": "code",
   "execution_count": 12,
   "id": "209f08ca",
   "metadata": {},
   "outputs": [
    {
     "data": {
      "text/plain": [
       "{'max_items_to_fetch': 20, 'currently_fetched_items': 0}"
      ]
     },
     "execution_count": 12,
     "metadata": {},
     "output_type": "execute_result"
    }
   ],
   "source": [
    "pagination = {\n",
    "    \"#pagination\": {\n",
    "        \"max_items_to_fetch\": 20,\n",
    "        \"currently_fetched_items\": 0\n",
    "    }\n",
    "}\n",
    "\n",
    "\n"
   ]
  },
  {
   "cell_type": "code",
   "execution_count": 13,
   "id": "95a3ff9a",
   "metadata": {},
   "outputs": [
    {
     "ename": "KeyError",
     "evalue": "'#pagination'",
     "output_type": "error",
     "traceback": [
      "\u001b[0;31m------------------------------------------------------------------\u001b[0m",
      "\u001b[0;31mKeyError\u001b[0m                         Traceback (most recent call last)",
      "\u001b[0;32m<ipython-input-13-fd84a0704e85>\u001b[0m in \u001b[0;36m<module>\u001b[0;34m\u001b[0m\n\u001b[0;32m----> 1\u001b[0;31m \u001b[0mpagination\u001b[0m\u001b[0;34m.\u001b[0m\u001b[0mpop\u001b[0m\u001b[0;34m(\u001b[0m\u001b[0;34m\"#pagination\"\u001b[0m\u001b[0;34m)\u001b[0m\u001b[0;34m\u001b[0m\u001b[0;34m\u001b[0m\u001b[0m\n\u001b[0m",
      "\u001b[0;31mKeyError\u001b[0m: '#pagination'"
     ]
    }
   ],
   "source": [
    "pagination.pop(\"#pagination\")"
   ]
  },
  {
   "cell_type": "code",
   "execution_count": 6,
   "id": "be68efb6",
   "metadata": {},
   "outputs": [],
   "source": [
    "total_items = 200\n",
    "max_items_per_page = 20"
   ]
  },
  {
   "cell_type": "code",
   "execution_count": null,
   "id": "9e4a8037",
   "metadata": {},
   "outputs": [],
   "source": [
    "currently_retrived_items = 20"
   ]
  },
  {
   "cell_type": "code",
   "execution_count": null,
   "id": "ad261bea",
   "metadata": {},
   "outputs": [],
   "source": []
  },
  {
   "cell_type": "code",
   "execution_count": null,
   "id": "edd13ab4",
   "metadata": {},
   "outputs": [],
   "source": []
  },
  {
   "cell_type": "code",
   "execution_count": null,
   "id": "90da6c7d",
   "metadata": {},
   "outputs": [],
   "source": []
  },
  {
   "cell_type": "code",
   "execution_count": null,
   "id": "a45d7cd3",
   "metadata": {},
   "outputs": [],
   "source": []
  },
  {
   "cell_type": "code",
   "execution_count": null,
   "id": "67340a5f",
   "metadata": {},
   "outputs": [],
   "source": [
    "# total_pages = total_items / max_item_per_page\n",
    "# current_page = 1"
   ]
  },
  {
   "cell_type": "code",
   "execution_count": null,
   "id": "3987f8b4",
   "metadata": {},
   "outputs": [],
   "source": []
  },
  {
   "cell_type": "code",
   "execution_count": null,
   "id": "e7be6d58",
   "metadata": {},
   "outputs": [],
   "source": []
  },
  {
   "cell_type": "code",
   "execution_count": null,
   "id": "dbbc2b21",
   "metadata": {},
   "outputs": [],
   "source": []
  },
  {
   "cell_type": "code",
   "execution_count": null,
   "id": "13006c6e",
   "metadata": {},
   "outputs": [],
   "source": []
  },
  {
   "cell_type": "code",
   "execution_count": null,
   "id": "20720068",
   "metadata": {},
   "outputs": [],
   "source": []
  },
  {
   "cell_type": "code",
   "execution_count": null,
   "id": "8a4597ea",
   "metadata": {},
   "outputs": [],
   "source": []
  },
  {
   "cell_type": "code",
   "execution_count": null,
   "id": "e25ece25",
   "metadata": {},
   "outputs": [],
   "source": []
  },
  {
   "cell_type": "code",
   "execution_count": null,
   "id": "6661faa3",
   "metadata": {},
   "outputs": [],
   "source": []
  },
  {
   "cell_type": "code",
   "execution_count": null,
   "id": "5a2859da",
   "metadata": {},
   "outputs": [],
   "source": []
  }
 ],
 "metadata": {
  "kernelspec": {
   "display_name": "Python 3",
   "language": "python",
   "name": "python3"
  },
  "language_info": {
   "codemirror_mode": {
    "name": "ipython",
    "version": 3
   },
   "file_extension": ".py",
   "mimetype": "text/x-python",
   "name": "python",
   "nbconvert_exporter": "python",
   "pygments_lexer": "ipython3",
   "version": "3.8.10"
  }
 },
 "nbformat": 4,
 "nbformat_minor": 5
}
