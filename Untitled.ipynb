{
 "cells": [
  {
   "cell_type": "code",
   "execution_count": 1,
   "id": "789bc554",
   "metadata": {},
   "outputs": [],
   "source": [
    "\n",
    "class BaseReportComponent:\n",
    "    \n",
    "    def __init__(\n",
    "        self,\n",
    "        title:str,\n",
    "        component_id:str,\n",
    "        component_type:str,\n",
    "        path:str = None,\n",
    "        order:int = None,\n",
    "        \n",
    "    ):\n",
    "        \n",
    "        self.title = title\n",
    "        self.component_id = component_id\n",
    "        self.component_type = component_type\n",
    "        self.path = path or '/' + component_id\n",
    "        self.order = order\n",
    "        \n",
    "        # \"style_attributes\": {\n",
    "        #     \"width\": \"1/3\"\n",
    "        # },\n",
    "        # \"attributes\": devices_by_os.attributes_pie_chart(),\n",
    "\n",
    "    def return_data(self, flask_request):\n",
    "        raise NotImplementedError(\"Retrival of data for this component is not implemented\")\n",
    "\n",
    "    def return_attributes(self):\n",
    "        pass\n",
    "\n",
    "\n",
    "\n",
    "    def return_registration_payload(self):\n",
    "        pass\n",
    "        \n",
    "        "
   ]
  },
  {
   "cell_type": "code",
   "execution_count": null,
   "id": "7e9bb8e4",
   "metadata": {},
   "outputs": [],
   "source": [
    "\n",
    "\n",
    "def attributes_bar_vertical():\n",
    "    return {\n",
    "        \"series\": [\n",
    "            {\n",
    "                \"xaxis_description\": \"Database Name\",\n",
    "                \"xaxis_key\": \"database\"\n",
    "            },\n",
    "            {\n",
    "                \"yaxis_description\": \"Processor Licenses Required\",\n",
    "                \"yaxis_key\": \"oracle_processors_required\"\n",
    "            }\n",
    "        ]\n",
    "    }"
   ]
  },
  {
   "cell_type": "code",
   "execution_count": 31,
   "id": "d39f2831",
   "metadata": {},
   "outputs": [],
   "source": []
  },
  {
   "cell_type": "code",
   "execution_count": 32,
   "id": "1adc0a9c",
   "metadata": {},
   "outputs": [
    {
     "data": {
      "text/plain": [
       "{'series': [{'xaxis_description': 'Database', 'xaxis_key': 'database'},\n",
       "  {'yaxis_description': 'Oracle processors required',\n",
       "   'yaxis_key': 'oracle_processors_required'}]}"
      ]
     },
     "execution_count": 32,
     "metadata": {},
     "output_type": "execute_result"
    }
   ],
   "source": [
    "xy_axis_key = [(\"database\", \"oracle_processors_required\")]\n",
    "attributes_bar_vertical_chart(xy_axis_key)"
   ]
  },
  {
   "cell_type": "code",
   "execution_count": null,
   "id": "4aebf815",
   "metadata": {},
   "outputs": [],
   "source": []
  },
  {
   "cell_type": "code",
   "execution_count": null,
   "id": "8f0481f4",
   "metadata": {},
   "outputs": [],
   "source": []
  },
  {
   "cell_type": "code",
   "execution_count": null,
   "id": "e89a0806",
   "metadata": {},
   "outputs": [],
   "source": []
  },
  {
   "cell_type": "code",
   "execution_count": null,
   "id": "db51fbde",
   "metadata": {},
   "outputs": [],
   "source": []
  },
  {
   "cell_type": "code",
   "execution_count": null,
   "id": "084efce2",
   "metadata": {},
   "outputs": [],
   "source": []
  },
  {
   "cell_type": "code",
   "execution_count": null,
   "id": "d329a64f",
   "metadata": {},
   "outputs": [],
   "source": []
  },
  {
   "cell_type": "code",
   "execution_count": null,
   "id": "e71f0437",
   "metadata": {},
   "outputs": [],
   "source": []
  },
  {
   "cell_type": "code",
   "execution_count": null,
   "id": "a85cce24",
   "metadata": {},
   "outputs": [],
   "source": []
  },
  {
   "cell_type": "code",
   "execution_count": null,
   "id": "810b0f52",
   "metadata": {},
   "outputs": [],
   "source": []
  },
  {
   "cell_type": "code",
   "execution_count": null,
   "id": "1980acc6",
   "metadata": {},
   "outputs": [],
   "source": []
  },
  {
   "cell_type": "code",
   "execution_count": null,
   "id": "effce029",
   "metadata": {},
   "outputs": [],
   "source": []
  },
  {
   "cell_type": "code",
   "execution_count": null,
   "id": "0cf5d653",
   "metadata": {},
   "outputs": [],
   "source": []
  },
  {
   "cell_type": "code",
   "execution_count": null,
   "id": "5220f6cb",
   "metadata": {},
   "outputs": [],
   "source": []
  }
 ],
 "metadata": {
  "kernelspec": {
   "display_name": "Python 3.8.5 64-bit",
   "language": "python",
   "name": "python385jvsc74a57bd031f2aee4e71d21fbe5cf8b01ff0e069b9275f58929596ceb00d14d90e3e16cd6"
  },
  "language_info": {
   "codemirror_mode": {
    "name": "ipython",
    "version": 3
   },
   "file_extension": ".py",
   "mimetype": "text/x-python",
   "name": "python",
   "nbconvert_exporter": "python",
   "pygments_lexer": "ipython3",
   "version": "3.8.10"
  }
 },
 "nbformat": 4,
 "nbformat_minor": 5
}
