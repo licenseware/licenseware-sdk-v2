{
 "cells": [
  {
   "cell_type": "code",
   "execution_count": null,
   "id": "e4e5edc2",
   "metadata": {},
   "outputs": [],
   "source": [
    "import os\n",
    "import string\n",
    "import random\n",
    "from dataclasses import dataclass\n",
    "from typing import List, Any"
   ]
  },
  {
   "cell_type": "code",
   "execution_count": null,
   "id": "a60cb272",
   "metadata": {},
   "outputs": [],
   "source": [
    "# https://marshmallow.readthedocs.io/en/stable/quickstart.html#field-validators-as-methods\n",
    "import re\n",
    "from marshmallow import Schema, fields, validates, validate, ValidationError\n",
    "from app.licenseware.common.validators.schema_validator import schema_validator as valid_data\n",
    "import pymongo\n",
    "from contextlib import contextmanager"
   ]
  },
  {
   "cell_type": "code",
   "execution_count": null,
   "id": "ff725a10",
   "metadata": {},
   "outputs": [],
   "source": [
    "@contextmanager\n",
    "def open_file(name):\n",
    "    f = open(name, 'w')\n",
    "    try:\n",
    "        yield f\n",
    "    finally:\n",
    "        f.close()"
   ]
  },
  {
   "cell_type": "code",
   "execution_count": 50,
   "id": "5d993155",
   "metadata": {},
   "outputs": [
    {
     "data": {
      "text/plain": [
       "{'series': [{'xaxis_name': 'Option name', 'xaxis_machine_name': 'option_name'},\n",
       "  {'yaxis_name': 'Number of databases',\n",
       "   'yaxis_machine_name': 'number_of_databases'}]}"
      ]
     },
     "execution_count": 50,
     "metadata": {},
     "output_type": "execute_result"
    }
   ],
   "source": [
    "import re\n",
    "from typing import List, Tuple\n",
    "\n",
    "\n",
    "def bar_vertical_chart_props(xaxis_machine_name:str, yaxis_machine_name:str):\n",
    "    \"\"\"\n",
    "    \n",
    "    From this input:\n",
    "    xaxis_machine_name=\"option_name\", yaxis_machine_name=\"number_of_databases\"\n",
    "    \n",
    "    Will return this output:\n",
    "    {'series': [\n",
    "        {'xaxis_name': 'Option name', 'xaxis_machine_name': 'option_name'},\n",
    "        {'yaxis_name': 'Number of databases','yaxis_machine_name': 'number_of_databases'}\n",
    "    ]}\n",
    "    \n",
    "    \"\"\"\n",
    "    \n",
    "    props_series = {'series': [\n",
    "        {\n",
    "            'xaxis_name': re.sub('_', ' ', xaxis_machine_name).capitalize(),\n",
    "            'xaxis_machine_name': xaxis_machine_name\n",
    "        },\n",
    "        {\n",
    "            'yaxis_name': re.sub('_', ' ', yaxis_machine_name).capitalize(),\n",
    "            'yaxis_machine_name': yaxis_machine_name\n",
    "        },\n",
    "    ]}\n",
    "    \n",
    "    return props_series\n",
    "\n",
    "\n",
    "bar_vertical_chart_props(\n",
    "    xaxis_machine_name=\"option_name\", \n",
    "    yaxis_machine_name=\"number_of_databases\"\n",
    ")\n"
   ]
  },
  {
   "cell_type": "code",
   "execution_count": 44,
   "id": "a953390b",
   "metadata": {},
   "outputs": [
    {
     "name": "stdout",
     "output_type": "stream",
     "text": [
      "{'columns': [{'name': 'Number of Devices', 'prop': 'number_of_devices'}, {'name': 'Number of Databases', 'prop': 'number_of_databases'}]}\n",
      "{'columns': [{'name': 'Number of Devices', 'prop': 'number_of_devices'}, {'name': 'Number of Databases', 'prop': 'number_of_databases'}]}\n",
      "{'columns': [{'name': 'Number of devices', 'prop': 'number_of_devices'}, {'name': 'Number of databases', 'prop': 'number_of_databases'}]}\n"
     ]
    }
   ],
   "source": [
    "def attributes_bar_vertical():\n",
    "    return {\n",
    "        \"series\": [\n",
    "            {\n",
    "                \"xaxis_description\": \"Option Name\",\n",
    "                \"xaxis_key\": \"option_name\"\n",
    "            },\n",
    "            {\n",
    "                \"yaxis_description\": \"Number of Databases\",\n",
    "                \"yaxis_key\": \"number_of_databases\"\n",
    "            }\n",
    "        ]\n",
    "    }"
   ]
  },
  {
   "cell_type": "code",
   "execution_count": 18,
   "id": "de211ccf",
   "metadata": {},
   "outputs": [],
   "source": []
  },
  {
   "cell_type": "code",
   "execution_count": null,
   "id": "789bc554",
   "metadata": {},
   "outputs": [],
   "source": []
  },
  {
   "cell_type": "code",
   "execution_count": null,
   "id": "a88c2b1e",
   "metadata": {},
   "outputs": [],
   "source": []
  },
  {
   "cell_type": "code",
   "execution_count": null,
   "id": "239b0b77",
   "metadata": {},
   "outputs": [],
   "source": []
  },
  {
   "cell_type": "code",
   "execution_count": null,
   "id": "4aebf815",
   "metadata": {},
   "outputs": [],
   "source": []
  },
  {
   "cell_type": "code",
   "execution_count": null,
   "id": "8f0481f4",
   "metadata": {},
   "outputs": [],
   "source": []
  },
  {
   "cell_type": "code",
   "execution_count": null,
   "id": "e89a0806",
   "metadata": {},
   "outputs": [],
   "source": []
  },
  {
   "cell_type": "code",
   "execution_count": null,
   "id": "db51fbde",
   "metadata": {},
   "outputs": [],
   "source": []
  },
  {
   "cell_type": "code",
   "execution_count": null,
   "id": "084efce2",
   "metadata": {},
   "outputs": [],
   "source": []
  },
  {
   "cell_type": "code",
   "execution_count": null,
   "id": "d329a64f",
   "metadata": {},
   "outputs": [],
   "source": []
  },
  {
   "cell_type": "code",
   "execution_count": null,
   "id": "e71f0437",
   "metadata": {},
   "outputs": [],
   "source": []
  },
  {
   "cell_type": "code",
   "execution_count": null,
   "id": "2af134dd",
   "metadata": {},
   "outputs": [],
   "source": [
    "VirtualizationReport.register_component(StandardReportComponent(\n",
    "    data={\n",
    "        \"component_id\": \"virtual_overview\",\n",
    "        \"url\": \"/virtual_overview\",\n",
    "        \"order\": 1,\n",
    "        \"style_props\": {\n",
    "            \"width\": \"1/3\"\n",
    "        },\n",
    "        \"attributes\": {\n",
    "            \"series\": [\n",
    "                {\n",
    "                    \"value_description\": \"Missing parent details\",\n",
    "                    \"value_key\": \"missing_parent_details\",\n",
    "                    \"icon\": \"FeaturesIcon\"\n",
    "                },\n",
    "                {\n",
    "                    \"value_description\": \"Unknown device types\",\n",
    "                    \"value_key\": \"unknown_types\",\n",
    "                    \"icon\": \"ServersIcon\"\n",
    "                },\n",
    "                {\n",
    "                    \"value_description\": \"Missing cores info\",\n",
    "                    \"value_key\": \"missing_cores_info\",\n",
    "                    \"icon\": \"CpuIcon\"\n",
    "                }\n",
    "            ]\n",
    "        },\n",
    "        \"title\": \"Overview\",\n",
    "        \"type\": \"summary\",\n",
    "        \"icon\": \"ServersIcon\"\n",
    "    }, fetch_function=IFMPComponents.virtualization_overview\n",
    "))\n"
   ]
  },
  {
   "cell_type": "code",
   "execution_count": null,
   "id": "a85cce24",
   "metadata": {},
   "outputs": [],
   "source": []
  },
  {
   "cell_type": "code",
   "execution_count": null,
   "id": "810b0f52",
   "metadata": {},
   "outputs": [],
   "source": []
  },
  {
   "cell_type": "code",
   "execution_count": null,
   "id": "1980acc6",
   "metadata": {},
   "outputs": [],
   "source": []
  },
  {
   "cell_type": "code",
   "execution_count": null,
   "id": "effce029",
   "metadata": {},
   "outputs": [],
   "source": []
  },
  {
   "cell_type": "code",
   "execution_count": null,
   "id": "0cf5d653",
   "metadata": {},
   "outputs": [],
   "source": []
  },
  {
   "cell_type": "code",
   "execution_count": null,
   "id": "5220f6cb",
   "metadata": {},
   "outputs": [],
   "source": []
  }
 ],
 "metadata": {
  "kernelspec": {
   "display_name": "Python 3.8.5 64-bit",
   "language": "python",
   "name": "python385jvsc74a57bd031f2aee4e71d21fbe5cf8b01ff0e069b9275f58929596ceb00d14d90e3e16cd6"
  },
  "language_info": {
   "codemirror_mode": {
    "name": "ipython",
    "version": 3
   },
   "file_extension": ".py",
   "mimetype": "text/x-python",
   "name": "python",
   "nbconvert_exporter": "python",
   "pygments_lexer": "ipython3",
   "version": "3.8.10"
  }
 },
 "nbformat": 4,
 "nbformat_minor": 5
}
