{
 "cells": [
  {
   "cell_type": "code",
   "execution_count": 162,
   "id": "7756406c",
   "metadata": {},
   "outputs": [],
   "source": [
    "import os\n",
    "import string\n",
    "import random\n",
    "from dataclasses import dataclass"
   ]
  },
  {
   "cell_type": "code",
   "execution_count": 188,
   "id": "034eee78",
   "metadata": {},
   "outputs": [
    {
     "name": "stdout",
     "output_type": "stream",
     "text": [
      "4\n",
      "previous 4 now is 3\n"
     ]
    }
   ],
   "source": [
    "@dataclass\n",
    "class Data:\n",
    "    VALUE = random.choice(string.digits)\n",
    "    \n",
    "    @classmethod\n",
    "    def value(cls):\n",
    "        return f\"previous {cls.VALUE} now is {random.choice(string.digits)}\"\n",
    "\n",
    "\n",
    "print(Data.VALUE)\n",
    "print(Data.value())"
   ]
  },
  {
   "cell_type": "code",
   "execution_count": null,
   "id": "415da60a",
   "metadata": {},
   "outputs": [],
   "source": []
  },
  {
   "cell_type": "code",
   "execution_count": null,
   "id": "fcb56966",
   "metadata": {},
   "outputs": [],
   "source": []
  },
  {
   "cell_type": "code",
   "execution_count": null,
   "id": "6cd3b440",
   "metadata": {},
   "outputs": [],
   "source": []
  }
 ],
 "metadata": {
  "kernelspec": {
   "display_name": "Python 3.8.5 64-bit",
   "language": "python",
   "name": "python385jvsc74a57bd031f2aee4e71d21fbe5cf8b01ff0e069b9275f58929596ceb00d14d90e3e16cd6"
  },
  "language_info": {
   "codemirror_mode": {
    "name": "ipython",
    "version": 3
   },
   "file_extension": ".py",
   "mimetype": "text/x-python",
   "name": "python",
   "nbconvert_exporter": "python",
   "pygments_lexer": "ipython3",
   "version": "3.8.10"
  }
 },
 "nbformat": 4,
 "nbformat_minor": 5
}
